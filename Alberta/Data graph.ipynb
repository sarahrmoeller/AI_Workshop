{
 "cells": [
  {
   "cell_type": "markdown",
   "metadata": {},
   "source": [
    "Original code written by Sam Chen 2023 at University of Florida for MeLD lab.\n",
    "\n",
    "Extracting data from average f1 scores and plotting it"
   ]
  },
  {
   "cell_type": "markdown",
   "metadata": {},
   "source": [
    "Basic code to read data from the files and get the weighted average"
   ]
  },
  {
   "cell_type": "code",
   "execution_count": 35,
   "metadata": {},
   "outputs": [],
   "source": [
    "import matplotlib.pyplot as plt\n",
    "import os \n",
    "\n",
    "class filesToRead:\n",
    "    def __init__(self):\n",
    "        self.fileList = []\n",
    "        self.precision = False\n",
    "        self.recall = False\n",
    "        self.f1Score = False\n",
    "        self.catList = []\n",
    "\n",
    "    def addFile(self, fileStr):\n",
    "        self.fileList.append(fileStr)\n",
    "    \n",
    "    def addCatList(self, list):\n",
    "        for x in list:\n",
    "            self.catList.append(x)\n",
    "    \n",
    "    def addFileFromFolder(self, folderPath):\n",
    "        for filename in os.listdir(folderPath):\n",
    "            if filename.endswith('_results.txt'):\n",
    "                f = os.path.join(folderPath, filename)\n",
    "                self.addFile(f)\n",
    "                \n",
    "    def getFileList(self):\n",
    "        return len(self.fileList)\n",
    "\n",
    "    def readWeightedAvg(self):\n",
    "        #Get all the files and read them\n",
    "        avgList = [[],[],[]]\n",
    "        for x in sorted(self.fileList):\n",
    "            File_results = open(x)\n",
    "            File_object = File_results.readlines()\n",
    "            #Find the weighted avg line in the file and split the line into a list using space delimination\n",
    "            for txt in File_object:\n",
    "                if \"precision\" in txt:\n",
    "                    precisionCol = txt.split().index(\"precision\")\n",
    "                if \"recall\" in txt:\n",
    "                    recallCol = txt.split().index(\"recall\")\n",
    "                if \"f1-score\" in txt:\n",
    "                    f1Col = txt.split().index(\"f1-score\")\n",
    "                if \"weighted avg\" in txt:\n",
    "                    s = txt.split()\n",
    "                \n",
    "            #Adds to a list the score avg(fifth item in list because weighted avg takes up 2 spaces in list)\n",
    "            if self.precision:\n",
    "                avgList[0].append(float(s[2+precisionCol]))\n",
    "            if self.recall:\n",
    "                avgList[1].append(float(s[2+recallCol]))\n",
    "            if self.f1Score:\n",
    "                avgList[2].append(float(s[2+f1Col]))\n",
    "        return avgList\n",
    "    \n",
    "    def readCategories(self):\n",
    "        list = [[] for _ in range(3 * len(self.catList))]\n",
    "        for x in sorted(self.fileList):\n",
    "            confusionTrack = False\n",
    "            File_results = open(x)\n",
    "            File_object = File_results.readlines()\n",
    "            for txt in File_object:\n",
    "                s = txt.split()\n",
    "                if \"precision\" in txt:\n",
    "                    precisionCol = txt.split().index(\"precision\")\n",
    "                if \"recall\" in txt:\n",
    "                    recallCol = txt.split().index(\"recall\")\n",
    "                if \"f1-score\" in txt:\n",
    "                    f1Col = txt.split().index(\"f1-score\")\n",
    "                if \"Confusion Matrix\" in txt:\n",
    "                    confusionTrack = True\n",
    "                if not confusionTrack and s:\n",
    "                    if s[0] in self.catList:\n",
    "                        if not list[self.catList.index(s[0])*3]:\n",
    "                            list[self.catList.index(s[0])*3].append(\"precision: \" + s[0])\n",
    "                            list[self.catList.index(s[0])*3 + 1].append(\"recall: \" + s[0])\n",
    "                            list[self.catList.index(s[0])*3 + 2].append(\"f1: \" + s[0])\n",
    "                        list[self.catList.index(s[0]) * 3].append(float(s[1+precisionCol]))\n",
    "                        list[self.catList.index(s[0]) * 3 + 1].append(float(s[1+recallCol]))\n",
    "                        list[self.catList.index(s[0]) * 3 + 2].append(float(s[1+f1Col]))\n",
    "        return list\n",
    "    \n",
    "    def readNumCategories(self): \n",
    "        numList = []\n",
    "        for x in sorted(self.fileList):\n",
    "            track = 0\n",
    "            start = False\n",
    "            File_results = open(x)\n",
    "            File_object = File_results.readlines()\n",
    "            for txt in File_object:\n",
    "                if start and not txt.isspace():\n",
    "                    track += 1\n",
    "                if \"precision\" in txt:\n",
    "                    start = True\n",
    "                if \"accuracy\" in txt:\n",
    "                    start = False\n",
    "            numList.append(track)\n",
    "        return numList\n",
    "    "
   ]
  },
  {
   "cell_type": "markdown",
   "metadata": {},
   "source": [
    "Function that takes in the list returned from reading the files and plots it"
   ]
  },
  {
   "cell_type": "code",
   "execution_count": 36,
   "metadata": {},
   "outputs": [],
   "source": [
    "def createGraph(n, fileClass, name):\n",
    "    #list that have all ints from 1 to len of n\n",
    "    xl = list(range(1, len(n[0])+1))\n",
    "    x2 = list(range(1, len(n[1])+1))\n",
    "    x3 = list(range(1, len(n[2])+1))\n",
    "    \n",
    "    #plot with x as the number of values in n, and y is list n\n",
    "    plt.plot(xl, n[0], marker = 'o', label = \"Precision\")\n",
    "    plt.plot(x2, n[1], marker = 'x', label = \"Recall\")\n",
    "    plt.plot(x3, n[2], marker = 'v', label = \"F1-Score\")\n",
    "    plt.legend(loc=\"upper left\")\n",
    "    plt.xlim(1, fileClass.getFileList())\n",
    "    plt.locator_params(axis=\"x\", integer=True, tight=True)\n",
    "    plt.ylim(0,1)\n",
    "    plt.yticks([0,0.1,0.2,0.3,0.4,0.5,0.6,0.7,0.8,0.9,1],[0,0.1,0.2,0.3,0.4,0.5,0.6,0.7,0.8,0.9,1])\n",
    "    plt.xlabel(\"Training Iterations\")\n",
    "    plt.ylabel(\"Weighted Average\")\n",
    "    label = plt.gca()\n",
    "    for tick in label.get_xticklabels():\n",
    "        tick.set_color(\"red\")\n",
    "\n",
    "    for tick in label.get_yticklabels():\n",
    "        tick.set_color(\"red\")\n",
    "    plt.tick_params(axis=\"both\", color = \"red\")\n",
    "    plt.savefig(name)\n",
    "    plt.show()\n",
    "    plt.close()\n"
   ]
  },
  {
   "cell_type": "code",
   "execution_count": 37,
   "metadata": {},
   "outputs": [],
   "source": [
    "def createNumCatGraph(n, fileClass, name):\n",
    "    xl = list(range(1, len(n)+1))\n",
    "\n",
    "    plt.plot(xl, n, marker = 'o', label = \"# Of Categories\")\n",
    "    \n",
    "    plt.legend(loc=\"upper left\")\n",
    "    plt.xlim(1, fileClass.getFileList())\n",
    "    plt.ylim(1, max(n)+1)\n",
    "    plt.locator_params(axis=\"x\", integer=True, tight=True)\n",
    "    plt.xlabel(\"Training Iterations\")\n",
    "    plt.ylabel(\"Categories\")\n",
    "    label = plt.gca()\n",
    "    for tick in label.get_xticklabels():\n",
    "        tick.set_color(\"red\")\n",
    "\n",
    "    for tick in label.get_yticklabels():\n",
    "        tick.set_color(\"red\")\n",
    "    plt.tick_params(axis=\"both\", color = \"red\")\n",
    "    plt.savefig(name)\n",
    "    plt.show()\n",
    "    plt.close()\n",
    "  "
   ]
  },
  {
   "cell_type": "code",
   "execution_count": 38,
   "metadata": {},
   "outputs": [],
   "source": [
    "def createCatGraph(n, fileClass, name):\n",
    "    print(len(n[0]))\n",
    "    for i in range(1, len(n), 1):\n",
    "        print(n[i][0])\n",
    "        plt.plot(list(range(1, len(n[0]))), n[i][1:], marker = 'o', label = str(n[i][0]))\n",
    "    plt.xlim(1, fileClass.getFileList())\n",
    "    plt.xlabel(\"Training Iterations\")\n",
    "    plt.ylabel(\"Score\")\n",
    "    plt.legend(loc=\"upper left\")\n",
    "    plt.locator_params(axis=\"x\", integer=True, tight=True)\n",
    "    plt.tick_params(axis=\"both\", color = \"red\")\n",
    "    plt.show"
   ]
  },
  {
   "cell_type": "markdown",
   "metadata": {},
   "source": [
    "Driver code to run functions"
   ]
  },
  {
   "cell_type": "code",
   "execution_count": 42,
   "metadata": {
    "scrolled": true
   },
   "outputs": [
    {
     "name": "stdout",
     "output_type": "stream",
     "text": [
      "Enter the folder name: ./Alberta/bkft_reports\n"
     ]
    },
    {
     "data": {
      "image/png": "[encoded data removed]",
      "text/plain": [
       "<Figure size 432x288 with 1 Axes>"
      ]
     },
     "metadata": {
      "needs_background": "light"
     },
     "output_type": "display_data"
    },
    {
     "data": {
      "image/png": "[encoded data removed]",
      "text/plain": [
       "<Figure size 432x288 with 1 Axes>"
      ]
     },
     "metadata": {
      "needs_background": "light"
     },
     "output_type": "display_data"
    },
    {
     "name": "stdout",
     "output_type": "stream",
     "text": [
      "0\n"
     ]
    },
    {
     "ename": "IndexError",
     "evalue": "list index out of range",
     "output_type": "error",
     "traceback": [
      "\u001b[1;31m---------------------------------------------------------------------------\u001b[0m",
      "\u001b[1;31mIndexError\u001b[0m                                Traceback (most recent call last)",
      "\u001b[1;32m<ipython-input-42-68fed20ccccf>\u001b[0m in \u001b[0;36m<module>\u001b[1;34m\u001b[0m\n\u001b[0;32m     26\u001b[0m \u001b[0mcreateGraph\u001b[0m\u001b[1;33m(\u001b[0m\u001b[0mr1\u001b[0m\u001b[1;33m,\u001b[0m \u001b[0mfileReader\u001b[0m\u001b[1;33m,\u001b[0m \u001b[0mfolder_name\u001b[0m\u001b[1;33m+\u001b[0m\u001b[1;34m\" wghtd_avgs\"\u001b[0m\u001b[1;33m)\u001b[0m\u001b[1;33m\u001b[0m\u001b[1;33m\u001b[0m\u001b[0m\n\u001b[0;32m     27\u001b[0m \u001b[0mcreateNumCatGraph\u001b[0m\u001b[1;33m(\u001b[0m\u001b[0mr2\u001b[0m\u001b[1;33m,\u001b[0m \u001b[0mfileReader\u001b[0m\u001b[1;33m,\u001b[0m \u001b[0mfolder_name\u001b[0m \u001b[1;33m+\u001b[0m \u001b[1;34m\" #_of_categories\"\u001b[0m\u001b[1;33m)\u001b[0m\u001b[1;33m\u001b[0m\u001b[1;33m\u001b[0m\u001b[0m\n\u001b[1;32m---> 28\u001b[1;33m \u001b[0mcreateCatGraph\u001b[0m\u001b[1;33m(\u001b[0m\u001b[0mr3\u001b[0m\u001b[1;33m,\u001b[0m \u001b[0mfileReader\u001b[0m\u001b[1;33m,\u001b[0m \u001b[0mfolder_name\u001b[0m \u001b[1;33m+\u001b[0m \u001b[1;34m\" categories\"\u001b[0m\u001b[1;33m)\u001b[0m\u001b[1;33m\u001b[0m\u001b[1;33m\u001b[0m\u001b[0m\n\u001b[0m",
      "\u001b[1;32m<ipython-input-38-b43443de8b19>\u001b[0m in \u001b[0;36mcreateCatGraph\u001b[1;34m(n, fileClass, name)\u001b[0m\n\u001b[0;32m      2\u001b[0m     \u001b[0mprint\u001b[0m\u001b[1;33m(\u001b[0m\u001b[0mlen\u001b[0m\u001b[1;33m(\u001b[0m\u001b[0mn\u001b[0m\u001b[1;33m[\u001b[0m\u001b[1;36m0\u001b[0m\u001b[1;33m]\u001b[0m\u001b[1;33m)\u001b[0m\u001b[1;33m)\u001b[0m\u001b[1;33m\u001b[0m\u001b[1;33m\u001b[0m\u001b[0m\n\u001b[0;32m      3\u001b[0m     \u001b[1;32mfor\u001b[0m \u001b[0mi\u001b[0m \u001b[1;32min\u001b[0m \u001b[0mrange\u001b[0m\u001b[1;33m(\u001b[0m\u001b[1;36m1\u001b[0m\u001b[1;33m,\u001b[0m \u001b[0mlen\u001b[0m\u001b[1;33m(\u001b[0m\u001b[0mn\u001b[0m\u001b[1;33m)\u001b[0m\u001b[1;33m,\u001b[0m \u001b[1;36m1\u001b[0m\u001b[1;33m)\u001b[0m\u001b[1;33m:\u001b[0m\u001b[1;33m\u001b[0m\u001b[1;33m\u001b[0m\u001b[0m\n\u001b[1;32m----> 4\u001b[1;33m         \u001b[0mprint\u001b[0m\u001b[1;33m(\u001b[0m\u001b[0mn\u001b[0m\u001b[1;33m[\u001b[0m\u001b[0mi\u001b[0m\u001b[1;33m]\u001b[0m\u001b[1;33m[\u001b[0m\u001b[1;36m0\u001b[0m\u001b[1;33m]\u001b[0m\u001b[1;33m)\u001b[0m\u001b[1;33m\u001b[0m\u001b[1;33m\u001b[0m\u001b[0m\n\u001b[0m\u001b[0;32m      5\u001b[0m         \u001b[0mplt\u001b[0m\u001b[1;33m.\u001b[0m\u001b[0mplot\u001b[0m\u001b[1;33m(\u001b[0m\u001b[0mlist\u001b[0m\u001b[1;33m(\u001b[0m\u001b[0mrange\u001b[0m\u001b[1;33m(\u001b[0m\u001b[1;36m1\u001b[0m\u001b[1;33m,\u001b[0m \u001b[0mlen\u001b[0m\u001b[1;33m(\u001b[0m\u001b[0mn\u001b[0m\u001b[1;33m[\u001b[0m\u001b[1;36m0\u001b[0m\u001b[1;33m]\u001b[0m\u001b[1;33m)\u001b[0m\u001b[1;33m)\u001b[0m\u001b[1;33m)\u001b[0m\u001b[1;33m,\u001b[0m \u001b[0mn\u001b[0m\u001b[1;33m[\u001b[0m\u001b[0mi\u001b[0m\u001b[1;33m]\u001b[0m\u001b[1;33m[\u001b[0m\u001b[1;36m1\u001b[0m\u001b[1;33m:\u001b[0m\u001b[1;33m]\u001b[0m\u001b[1;33m,\u001b[0m \u001b[0mmarker\u001b[0m \u001b[1;33m=\u001b[0m \u001b[1;34m'o'\u001b[0m\u001b[1;33m,\u001b[0m \u001b[0mlabel\u001b[0m \u001b[1;33m=\u001b[0m \u001b[0mstr\u001b[0m\u001b[1;33m(\u001b[0m\u001b[0mn\u001b[0m\u001b[1;33m[\u001b[0m\u001b[0mi\u001b[0m\u001b[1;33m]\u001b[0m\u001b[1;33m[\u001b[0m\u001b[1;36m0\u001b[0m\u001b[1;33m]\u001b[0m\u001b[1;33m)\u001b[0m\u001b[1;33m)\u001b[0m\u001b[1;33m\u001b[0m\u001b[1;33m\u001b[0m\u001b[0m\n\u001b[0;32m      6\u001b[0m     \u001b[0mplt\u001b[0m\u001b[1;33m.\u001b[0m\u001b[0mxlim\u001b[0m\u001b[1;33m(\u001b[0m\u001b[1;36m1\u001b[0m\u001b[1;33m,\u001b[0m \u001b[0mfileClass\u001b[0m\u001b[1;33m.\u001b[0m\u001b[0mgetFileList\u001b[0m\u001b[1;33m(\u001b[0m\u001b[1;33m)\u001b[0m\u001b[1;33m)\u001b[0m\u001b[1;33m\u001b[0m\u001b[1;33m\u001b[0m\u001b[0m\n",
      "\u001b[1;31mIndexError\u001b[0m: list index out of range"
     ]
    }
   ],
   "source": [
    "fileReader = filesToRead()\n",
    "\n",
    "#set to true whatever variable you want to show up on graph\n",
    "fileReader.f1Score = True\n",
    "fileReader.precision = False\n",
    "fileReader.recall = False\n",
    "\n",
    "#Add whatever files you need here: below is an example of how to do it\n",
    "#tester.addFile(\"What is your folder pathname?\")\n",
    "\n",
    "#asks user for the folder name\n",
    "folder_name = input(\"Enter the folder name: \")\n",
    "#search the current directory for the folder name and get the path\n",
    "folder_path = os.path.join(os.getcwd(), folder_name)\n",
    "#check if the path exists\n",
    "if os.path.exists(folder_path) and os.path.isdir(folder_path):\n",
    "    fileReader.addFileFromFolder(folder_path)\n",
    "else:\n",
    "    print(\"Invalid folder path. Please provide a valid folder name.\")\n",
    "\n",
    "#calls the functions to read files and print out the graph\n",
    "r1 = fileReader.readWeightedAvg()\n",
    "r2 = fileReader.readNumCategories()\n",
    "fileReader.addCatList([\"N\", \"V\"])\n",
    "r3 = fileReader.readCategories()\n",
    "createGraph(r1, fileReader, folder_name+\" wghtd_avgs\")\n",
    "createNumCatGraph(r2, fileReader, folder_name + \" #_of_categories\")\n",
    "createCatGraph(r3, fileReader, folder_name + \" categories\")\n"
   ]
  },
  {
   "cell_type": "markdown",
   "metadata": {},
   "source": [
    "# TODO\n",
    "\n",
    "* Create a second chart that shows how the number of categories changes (i.e. number of after label \"precision...recall...etc\" and the \"accuracy\" line, not including blank lines) over each iteration \n",
    "* user should be able to designate a folder pathname. The code will add only relevant files (ending in \\_results.txt, altho that might change) from that folder\n",
    "##### Lower priority\n",
    "* Let user choose category (from first column on lines between labels and scores) and create a chart that shows all or any of its precision, recall, and F1 score (2nd, 3rd, 4th columns)"
   ]
  }
 ],
 "metadata": {
  "kernelspec": {
   "display_name": "Python 3",
   "language": "python",
   "name": "python3"
  },
  "language_info": {
   "codemirror_mode": {
    "name": "ipython",
    "version": 3
   },
   "file_extension": ".py",
   "mimetype": "text/x-python",
   "name": "python",
   "nbconvert_exporter": "python",
   "pygments_lexer": "ipython3",
   "version": "3.8.8"
  }
 },
 "nbformat": 4,
 "nbformat_minor": 2
}
