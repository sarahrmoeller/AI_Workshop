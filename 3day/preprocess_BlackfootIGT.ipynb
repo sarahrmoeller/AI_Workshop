{
 "cells": [
  {
   "cell_type": "code",
   "execution_count": 25,
   "id": "483d4901",
   "metadata": {},
   "outputs": [],
   "source": [
    "TEAMCODE = 'bkft'\n",
    "TASK = '_igt'\n",
    "MODEL = 'Trans'\n",
    "\n",
    "FROMDIR = r'./bkft/'\n",
    "TODIR = FROMDIR + '/data/'\n",
    "ANNOTATED_FILE = FROMDIR+'bkft.annotated'\n",
    "UNANNOTATED_FILE = FROMDIR+'bkft.unannotated'\n",
    "\n",
    "KEY = TEAMCODE+TASK+MODEL\n",
    "\n",
    "PUNCTUATION = ['!', '.' ,'“', '”', '\"', '…', ')', '(']"
   ]
  },
  {
   "cell_type": "code",
   "execution_count": 26,
   "id": "5b09fc85",
   "metadata": {},
   "outputs": [],
   "source": [
    "def aligned(mrph, gls):\n",
    "    if not len(mrph.split()) == len(gls.split()):\n",
    "        return False\n",
    "    if not len(mrph.split('-')) == len(gls.split('-')):\n",
    "        return False\n",
    "    if not len(mrph.split('=')) == len(gls.split('=')):\n",
    "        return False\n",
    "    return True\n",
    "\n",
    "def preprocess(igtlines, annotated=True):\n",
    "    newlines = []\n",
    "    unannotated = []\n",
    "    for line in igtlines:\n",
    "        if line != '':\n",
    "            for punct in PUNCTUATION:\n",
    "                line = line.translate(str.maketrans('', '', punct))\n",
    "            #print(line) \n",
    "            igt = line.split('\\n')\n",
    "            t,m,g = igt[0], igt[1], igt[2]\n",
    "            notransl = igt[0]+'\\n'+igt[1]+'\\n'+igt[2]\n",
    "            if annotated == True and aligned(m,g):\n",
    "                newlines.append(notransl)\n",
    "            else:\n",
    "                unannotated.append(notransl+'\\n')\n",
    "    if annotated:\n",
    "        return newlines, unannotated\n",
    "    return unannotated"
   ]
  },
  {
   "cell_type": "code",
   "execution_count": 27,
   "id": "9d47a930",
   "metadata": {
    "scrolled": true
   },
   "outputs": [],
   "source": [
    "annotated = open(ANNOTATED_FILE, encoding='utf8').read().split('\\n\\n')\n",
    "unannotated_lines = [line.strip() for line in open(UNANNOTATED_FILE, encoding='utf8')]\n",
    "unannotated = []\n",
    "for i,line in enumerate(unannotated_lines):\n",
    "    if line == '':\n",
    "        unannotated.append(unannotated_lines[i+1])\n",
    "unannotated = [line+'\\n@@@\\n@@@\\n' for line in unannotated]\n",
    "\n",
    "\n",
    "annotated, misaligned = preprocess(annotated)\n",
    "unannotated = preprocess(unannotated, annotated=False) + misaligned\n",
    "\n",
    "with open(TODIR+KEY+'.predict', 'w', encoding='utf8') as u:\n",
    "    u.write('\\n'.join(unannotated))\n",
    "\n",
    "test_size = len(annotated)//10\n",
    "test = annotated[:test_size]\n",
    "train = annotated[test_size:]\n",
    "\n",
    "with open(TODIR+KEY+'0'+'.train', 'w', encoding='utf8') as t:\n",
    "    t.write('\\n\\n'.join(train))\n",
    "with open(TODIR+KEY+'0'+'.test', 'w', encoding='utf8') as t:\n",
    "    t.write('\\n\\n'.join(test))"
   ]
  },
  {
   "cell_type": "code",
   "execution_count": null,
   "id": "28e56cbf",
   "metadata": {},
   "outputs": [],
   "source": []
  },
  {
   "cell_type": "code",
   "execution_count": null,
   "id": "9f1c2e35",
   "metadata": {},
   "outputs": [],
   "source": []
  }
 ],
 "metadata": {
  "kernelspec": {
   "display_name": "Python 3",
   "language": "python",
   "name": "python3"
  },
  "language_info": {
   "codemirror_mode": {
    "name": "ipython",
    "version": 3
   },
   "file_extension": ".py",
   "mimetype": "text/x-python",
   "name": "python",
   "nbconvert_exporter": "python",
   "pygments_lexer": "ipython3",
   "version": "3.8.8"
  }
 },
 "nbformat": 4,
 "nbformat_minor": 5
}
